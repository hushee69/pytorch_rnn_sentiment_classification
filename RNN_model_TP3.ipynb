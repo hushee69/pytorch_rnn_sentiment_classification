{
 "cells": [
  {
   "cell_type": "code",
   "execution_count": 1,
   "metadata": {},
   "outputs": [],
   "source": [
    "from IPython.display import display;\n",
    "\n",
    "import numpy as np;\n",
    "import pandas as pd;\n",
    "\n",
    "import torch;\n",
    "from torchtext import data;\n",
    "\n",
    "import os;\n",
    "\n",
    "import matplotlib.pyplot as plt;\n",
    "import seaborn as sns;\n",
    "\n",
    "%matplotlib inline\n",
    "\n",
    "sns.set();"
   ]
  },
  {
   "cell_type": "markdown",
   "metadata": {},
   "source": [
    "# Build model"
   ]
  },
  {
   "cell_type": "code",
   "execution_count": 2,
   "metadata": {},
   "outputs": [],
   "source": [
    "import torch;\n",
    "import torch.nn as nn;"
   ]
  },
  {
   "cell_type": "code",
   "execution_count": 3,
   "metadata": {},
   "outputs": [],
   "source": [
    "class RNN_Model(nn.Module):\n",
    "    \"\"\"\n",
    "    Params:\n",
    "        input_dim: size of vocabulary\n",
    "        embedding_dim: size of embeddings\n",
    "        hidden_dim: size of hidden units\n",
    "        output_dim: size of output\n",
    "    \"\"\"\n",
    "    def __init__(self, input_dim, embedding_dim, hidden_dim, output_dim):\n",
    "        super(RNN_Model, self).__init__();\n",
    "        self.embeddings = nn.Embedding(input_dim, embedding_dim);\n",
    "        self.rnn = nn.RNN(embedding_dim, hidden_dim);\n",
    "        self.fc = nn.Linear(hidden_dim, output_dim);\n",
    "    \n",
    "    def forward(self, text):\n",
    "        embedding = self.embeddings(text);\n",
    "        output, hidden = self.rnn(embedding);\n",
    "        \n",
    "        return self.fc(hidden.squeeze(0));"
   ]
  },
  {
   "cell_type": "code",
   "execution_count": 4,
   "metadata": {},
   "outputs": [],
   "source": [
    "def accuracy(predicted, actual):\n",
    "    preds = torch.round(torch.sigmoid(predicted));\n",
    "    correct = (preds == actual).float();\n",
    "    acc = correct.sum() / len(correct);\n",
    "    \n",
    "    return acc;"
   ]
  },
  {
   "cell_type": "code",
   "execution_count": 5,
   "metadata": {},
   "outputs": [],
   "source": [
    "def train_model(model, iterator, optimizer, criterion):\n",
    "    epoch_loss = 0;\n",
    "    epoch_acc = 0;\n",
    "    \n",
    "    # put model in train mode\n",
    "    model.train();\n",
    "    \n",
    "    for batch in iterator:\n",
    "        optimizer.zero_grad();\n",
    "        preds = model(batch.text).squeeze(1);\n",
    "        loss = criterion(preds, batch.label);\n",
    "        acc = accuracy(preds, batch.label);\n",
    "        loss.backward();\n",
    "        optimizer.step();\n",
    "        \n",
    "        epoch_loss += loss.item();\n",
    "        epoch_acc += acc.item();\n",
    "    \n",
    "    return epoch_loss / len(iterator), epoch_acc / len(iterator);"
   ]
  },
  {
   "cell_type": "code",
   "execution_count": 6,
   "metadata": {},
   "outputs": [],
   "source": [
    "def evaluate(model, iterator, criterion):\n",
    "    epoch_loss = 0;\n",
    "    epoch_acc = 0;\n",
    "    \n",
    "    model.eval();\n",
    "    \n",
    "    with torch.no_grad():\n",
    "        for batch in iterator:\n",
    "            preds = model(batch.text).squeeze(1);\n",
    "            loss = criterion(preds, batch.label);\n",
    "            acc = accuracy(preds, batch.label);\n",
    "            \n",
    "            epoch_loss += loss;\n",
    "            epoch_acc += acc;\n",
    "    \n",
    "    return epoch_loss / len(iterator), epoch_acc / len(iterator);"
   ]
  },
  {
   "cell_type": "markdown",
   "metadata": {},
   "source": [
    "# convert all files to csv"
   ]
  },
  {
   "cell_type": "code",
   "execution_count": 7,
   "metadata": {},
   "outputs": [],
   "source": [
    "for f in os.listdir('data'):\n",
    "    if os.path.splitext(f)[1] == '.txt':\n",
    "        data_file = np.loadtxt('data/' + f, dtype='object', delimiter='\\t');\n",
    "        df = pd.DataFrame(data_file, columns=['Sentiment', 'Label']);\n",
    "        df.to_csv('data/' + os.path.splitext(f)[0] + '.csv', index=False);"
   ]
  },
  {
   "cell_type": "markdown",
   "metadata": {},
   "source": [
    "# Load amazon datasets using pytorch tabular dataset"
   ]
  },
  {
   "cell_type": "code",
   "execution_count": 8,
   "metadata": {},
   "outputs": [],
   "source": [
    "amazon_text = data.Field(sequential=True, use_vocab=True);\n",
    "amazon_label = data.LabelField(dtype=torch.float);\n",
    "\n",
    "fields = {\n",
    "    'Sentiment': ('text', amazon_text),\n",
    "    'Label': ('label', amazon_label)\n",
    "};\n",
    "\n",
    "amazon_train, amazon_val, amazon_test = data.TabularDataset.splits(\n",
    "    path='data',\n",
    "    train='amazon_train.csv',\n",
    "    validation='amazon_dev.csv',\n",
    "    test='amazon_test.csv',\n",
    "    format='csv',\n",
    "    fields=fields\n",
    ");"
   ]
  },
  {
   "cell_type": "markdown",
   "metadata": {},
   "source": [
    "# Build amazon vocabulary"
   ]
  },
  {
   "cell_type": "code",
   "execution_count": 9,
   "metadata": {},
   "outputs": [
    {
     "name": "stdout",
     "output_type": "stream",
     "text": [
      "Text vocabulary size: 2502\n",
      "Label vocabulary size: 2\n"
     ]
    }
   ],
   "source": [
    "VOCAB_SIZE = 2500;\n",
    "\n",
    "amazon_text.build_vocab(\n",
    "    amazon_train,\n",
    "    max_size=VOCAB_SIZE\n",
    ");\n",
    "\n",
    "amazon_label.build_vocab(amazon_train);\n",
    "\n",
    "print('Text vocabulary size: {}\\nLabel vocabulary size: {}'.format(len(amazon_text.vocab), len(amazon_label.vocab)));"
   ]
  },
  {
   "cell_type": "markdown",
   "metadata": {},
   "source": [
    "# Amazon iterators"
   ]
  },
  {
   "cell_type": "code",
   "execution_count": 10,
   "metadata": {},
   "outputs": [
    {
     "name": "stdout",
     "output_type": "stream",
     "text": [
      "tensor([[ 94,   0, 128,  ..., 143, 143, 180],\n",
      "        [678,  79, 162,  ...,  26,   2, 346],\n",
      "        [  1,   1, 146,  ...,  21, 153,  64],\n",
      "        ...,\n",
      "        [  1,   1,   1,  ...,   1, 146, 191],\n",
      "        [  1,   1,   1,  ...,   1,   1,   5],\n",
      "        [  1,   1,   1,  ...,   1,   1,   0]])\n",
      "tensor([1., 0., 1., 0., 1., 1., 1., 1., 1., 1., 0., 1., 1., 1., 1., 0., 0., 1.,\n",
      "        0., 0., 0., 0., 1., 1., 1., 0., 0., 1., 0., 0., 1., 1., 0., 1., 0., 0.,\n",
      "        0., 1., 0., 0., 0., 1., 1., 0., 1., 1., 0., 0., 0., 0.])\n"
     ]
    }
   ],
   "source": [
    "BATCH_SIZE = 64;\n",
    "\n",
    "device = torch.device('cuda' if torch.cuda.is_available() else 'cpu');\n",
    "\n",
    "amazon_train_iter, amazon_val_iter, amazon_test_iter = data.BucketIterator.splits(\n",
    "    (amazon_train, amazon_val, amazon_test),\n",
    "    batch_size=64,\n",
    "    sort_key=lambda x: len(x.text), # https://github.com/pytorch/text/issues/474\n",
    "    sort_within_batch=False,\n",
    "    device=device\n",
    ");\n",
    "\n",
    "for batch in amazon_val_iter:\n",
    "    print(batch.text);\n",
    "    print(batch.label);\n",
    "    break;"
   ]
  },
  {
   "cell_type": "markdown",
   "metadata": {},
   "source": [
    "# Load IMDB datasets "
   ]
  },
  {
   "cell_type": "code",
   "execution_count": 11,
   "metadata": {},
   "outputs": [],
   "source": [
    "imdb_text = data.Field(sequential=True, use_vocab=True);\n",
    "imdb_label = data.LabelField(dtype=torch.float);\n",
    "\n",
    "fields = {\n",
    "    'Sentiment': ('text', imdb_text),\n",
    "    'Label': ('label', imdb_label)\n",
    "};\n",
    "\n",
    "imdb_train, imdb_val, imdb_test = data.TabularDataset.splits(\n",
    "    path='data',\n",
    "    train='imdb_train.csv',\n",
    "    validation='imdb_dev.csv',\n",
    "    test='imdb_test.csv',\n",
    "    format='csv',\n",
    "    fields=fields\n",
    ");"
   ]
  },
  {
   "cell_type": "markdown",
   "metadata": {},
   "source": [
    "# Build IMDB vocabulary"
   ]
  },
  {
   "cell_type": "code",
   "execution_count": 12,
   "metadata": {},
   "outputs": [
    {
     "name": "stdout",
     "output_type": "stream",
     "text": [
      "Text vocabulary size: 2502\n",
      "Label vocabulary size: 2\n"
     ]
    }
   ],
   "source": [
    "VOCAB_SIZE = 2500;\n",
    "\n",
    "imdb_text.build_vocab(\n",
    "    imdb_train,\n",
    "    max_size=VOCAB_SIZE\n",
    ");\n",
    "\n",
    "imdb_label.build_vocab(imdb_train);\n",
    "\n",
    "print('Text vocabulary size: {}\\nLabel vocabulary size: {}'.format(len(imdb_text.vocab), len(imdb_label.vocab)));"
   ]
  },
  {
   "cell_type": "markdown",
   "metadata": {},
   "source": [
    "# IMDB iterators"
   ]
  },
  {
   "cell_type": "code",
   "execution_count": 13,
   "metadata": {},
   "outputs": [
    {
     "name": "stdout",
     "output_type": "stream",
     "text": [
      "tensor([[1576,  667,   55,  ...,  269,  184,   11],\n",
      "        [1296,    2,    6,  ...,    4,   85,  217],\n",
      "        [   6,   74,   70,  ...,    0,  747,    6],\n",
      "        ...,\n",
      "        [   1,    1,    1,  ...,    1,    1,    1],\n",
      "        [   1,    1,    1,  ...,    1,    1,    1],\n",
      "        [   1,    1,    1,  ...,    1,    1,    1]])\n"
     ]
    }
   ],
   "source": [
    "imdb_train_iter, imdb_val_iter, imdb_test_iter = data.BucketIterator.splits(\n",
    "    (imdb_train, imdb_val, imdb_test),\n",
    "    batch_size=64,\n",
    "    sort_key=lambda x: len(x.text), # https://github.com/pytorch/text/issues/474\n",
    "    sort_within_batch=False,\n",
    "    device=device\n",
    ");\n",
    "\n",
    "for batch in imdb_train_iter:\n",
    "    print(batch.text);\n",
    "    break;"
   ]
  },
  {
   "cell_type": "markdown",
   "metadata": {},
   "source": [
    "# Load YELP datasets "
   ]
  },
  {
   "cell_type": "code",
   "execution_count": 14,
   "metadata": {},
   "outputs": [],
   "source": [
    "yelp_text = data.Field(sequential=True, use_vocab=True);\n",
    "yelp_label = data.LabelField(dtype=torch.float);\n",
    "\n",
    "fields = {\n",
    "    'Sentiment': ('text', imdb_text),\n",
    "    'Label': ('label', imdb_label)\n",
    "};\n",
    "\n",
    "yelp_train, yelp_val, yelp_test = data.TabularDataset.splits(\n",
    "    path='data',\n",
    "    train='yelp_train.csv',\n",
    "    validation='yelp_dev.csv',\n",
    "    test='yelp_test.csv',\n",
    "    format='csv',\n",
    "    fields=fields\n",
    ");"
   ]
  },
  {
   "cell_type": "markdown",
   "metadata": {},
   "source": [
    "# Build Yelp vocabulary"
   ]
  },
  {
   "cell_type": "code",
   "execution_count": 15,
   "metadata": {},
   "outputs": [
    {
     "name": "stdout",
     "output_type": "stream",
     "text": [
      "Text vocabulary size: 2\n",
      "Label vocabulary size: 0\n"
     ]
    }
   ],
   "source": [
    "VOCAB_SIZE = 2500;\n",
    "\n",
    "yelp_text.build_vocab(\n",
    "    imdb_train,\n",
    "    max_size=VOCAB_SIZE\n",
    ");\n",
    "\n",
    "yelp_label.build_vocab(imdb_train);\n",
    "\n",
    "print('Text vocabulary size: {}\\nLabel vocabulary size: {}'.format(len(yelp_text.vocab), len(yelp_label.vocab)));"
   ]
  },
  {
   "cell_type": "markdown",
   "metadata": {},
   "source": [
    "# Yelp iterators"
   ]
  },
  {
   "cell_type": "code",
   "execution_count": 16,
   "metadata": {},
   "outputs": [
    {
     "name": "stdout",
     "output_type": "stream",
     "text": [
      "['My', 'side', 'Greek', 'salad', 'with', 'the', 'Greek', 'dressing', 'was', 'so', 'tasty,', 'and', 'the', 'pita', 'and', 'hummus', 'was', 'very', 'refreshing.']\n"
     ]
    }
   ],
   "source": [
    "yelp_train_iter, yelp_val_iter, yelp_test_iter = data.BucketIterator.splits(\n",
    "    (yelp_train, yelp_val, yelp_test),\n",
    "    batch_size=64,\n",
    "    sort_key=lambda x: len(x.text), # https://github.com/pytorch/text/issues/474\n",
    "    sort_within_batch=False,\n",
    "    device=device\n",
    ");\n",
    "\n",
    "for batch in yelp_train:\n",
    "    print(batch.text);\n",
    "    break;"
   ]
  },
  {
   "cell_type": "markdown",
   "metadata": {},
   "source": [
    "# Amazon model parameters"
   ]
  },
  {
   "cell_type": "code",
   "execution_count": 17,
   "metadata": {},
   "outputs": [],
   "source": [
    "INPUT_DIM = len(amazon_text.vocab);\n",
    "EMBEDDING_DIM = 50;\n",
    "HIDDEN_DIM = 32;\n",
    "OUTPUT_DIM = 1;\n",
    "\n",
    "amazon_model = RNN_Model(INPUT_DIM, EMBEDDING_DIM, HIDDEN_DIM, OUTPUT_DIM);"
   ]
  },
  {
   "cell_type": "markdown",
   "metadata": {},
   "source": [
    "# Optimizer"
   ]
  },
  {
   "cell_type": "code",
   "execution_count": 18,
   "metadata": {},
   "outputs": [],
   "source": [
    "optimizer = torch.optim.Adam(amazon_model.parameters());"
   ]
  },
  {
   "cell_type": "markdown",
   "metadata": {},
   "source": [
    "# Loss"
   ]
  },
  {
   "cell_type": "code",
   "execution_count": 19,
   "metadata": {},
   "outputs": [],
   "source": [
    "criterion = nn.BCEWithLogitsLoss();"
   ]
  },
  {
   "cell_type": "markdown",
   "metadata": {},
   "source": [
    "# Send to appropriate device"
   ]
  },
  {
   "cell_type": "code",
   "execution_count": 20,
   "metadata": {},
   "outputs": [],
   "source": [
    "amazon_model = amazon_model.to(device);\n",
    "criterion = criterion.to(device);"
   ]
  },
  {
   "cell_type": "markdown",
   "metadata": {},
   "source": [
    "# Amazon model training"
   ]
  },
  {
   "cell_type": "code",
   "execution_count": 21,
   "metadata": {},
   "outputs": [
    {
     "name": "stdout",
     "output_type": "stream",
     "text": [
      "Epoch: 1 / 10\n",
      "Training loss: 0.699167267481486, Training accuracy: 0.4625\n",
      "Validation loss: 0.6955715417861938, Validation accuracy: 0.46000000834465027\n",
      "Epoch: 2 / 10\n",
      "Training loss: 0.701528267065684, Training accuracy: 0.4920138895511627\n",
      "Validation loss: 0.6955695152282715, Validation accuracy: 0.46000000834465027\n",
      "Epoch: 3 / 10\n",
      "Training loss: 0.6920655171076456, Training accuracy: 0.46284722288449603\n",
      "Validation loss: 0.6956376433372498, Validation accuracy: 0.46000000834465027\n",
      "Epoch: 4 / 10\n",
      "Training loss: 0.6935606439908345, Training accuracy: 0.4888888895511627\n",
      "Validation loss: 0.6956431865692139, Validation accuracy: 0.5\n",
      "Epoch: 5 / 10\n",
      "Training loss: 0.692093555132548, Training accuracy: 0.4972222228844961\n",
      "Validation loss: 0.6945304274559021, Validation accuracy: 0.46000000834465027\n",
      "Epoch: 6 / 10\n",
      "Training loss: 0.6976967493693034, Training accuracy: 0.5121527791023255\n",
      "Validation loss: 0.6941636800765991, Validation accuracy: 0.46000000834465027\n",
      "Epoch: 7 / 10\n",
      "Training loss: 0.6999649961789449, Training accuracy: 0.4708333333333333\n",
      "Validation loss: 0.6923353672027588, Validation accuracy: 0.5199999809265137\n",
      "Epoch: 8 / 10\n",
      "Training loss: 0.68956085840861, Training accuracy: 0.512847222884496\n",
      "Validation loss: 0.691397488117218, Validation accuracy: 0.5600000023841858\n",
      "Epoch: 9 / 10\n",
      "Training loss: 0.6982184012730916, Training accuracy: 0.48576388955116273\n",
      "Validation loss: 0.6909474730491638, Validation accuracy: 0.5600000023841858\n",
      "Epoch: 10 / 10\n",
      "Training loss: 0.6954287608464559, Training accuracy: 0.49340277910232544\n",
      "Validation loss: 0.6957375407218933, Validation accuracy: 0.47999998927116394\n"
     ]
    }
   ],
   "source": [
    "N_EPOCHS = 10;\n",
    "\n",
    "best_validation_loss = float('inf');\n",
    "\n",
    "for epoch in range(N_EPOCHS):\n",
    "    train_loss, train_acc = train_model(amazon_model, amazon_train_iter, optimizer, criterion);\n",
    "    valid_loss, valid_acc = evaluate(amazon_model, amazon_val_iter, criterion);\n",
    "    \n",
    "    if valid_loss < best_validation_loss:\n",
    "        best_validation_loss = valid_loss;\n",
    "        torch.save(amazon_model.state_dict(), 'amazon_train.pt');\n",
    "    \n",
    "    print('Epoch: {} / {}'.format(epoch + 1, N_EPOCHS));\n",
    "    print('Training loss: {}, Training accuracy: {}'.format(train_loss, train_acc));\n",
    "    print('Validation loss: {}, Validation accuracy: {}'.format(valid_loss, valid_acc));"
   ]
  },
  {
   "cell_type": "markdown",
   "metadata": {},
   "source": [
    "# Test on Amazon dataset"
   ]
  },
  {
   "cell_type": "code",
   "execution_count": 22,
   "metadata": {},
   "outputs": [
    {
     "name": "stdout",
     "output_type": "stream",
     "text": [
      "Amazon model on amazon dataset - test loss: 0.6939654350280762, test accuracy: 0.47999998927116394\n"
     ]
    }
   ],
   "source": [
    "amazon_model.load_state_dict(torch.load('amazon_train.pt'));\n",
    "\n",
    "amazon_test_loss, amazon_test_acc = evaluate(amazon_model, amazon_test_iter, criterion);\n",
    "print('Amazon model on amazon dataset - test loss: {}, test accuracy: {}'.format(amazon_test_loss, amazon_test_acc));"
   ]
  },
  {
   "cell_type": "markdown",
   "metadata": {},
   "source": [
    "# Test Amazon model on IMDB dataset"
   ]
  },
  {
   "cell_type": "code",
   "execution_count": 23,
   "metadata": {},
   "outputs": [
    {
     "name": "stdout",
     "output_type": "stream",
     "text": [
      "Amazon model on imdb dataset - test loss: 0.6961751580238342, test accuracy: 0.47999998927116394\n"
     ]
    }
   ],
   "source": [
    "imdb_test_loss, imdb_test_acc = evaluate(amazon_model, imdb_test_iter, criterion);\n",
    "print('Amazon model on imdb dataset - test loss: {}, test accuracy: {}'.format(imdb_test_loss, imdb_test_acc));"
   ]
  },
  {
   "cell_type": "markdown",
   "metadata": {},
   "source": [
    "# Test Amazon model on YELP dataset"
   ]
  },
  {
   "cell_type": "code",
   "execution_count": 24,
   "metadata": {},
   "outputs": [
    {
     "name": "stdout",
     "output_type": "stream",
     "text": [
      "Amazon model on Yelp dataset - test loss: 0.6879196763038635, test accuracy: 0.5400000214576721\n"
     ]
    }
   ],
   "source": [
    "yelp_test_loss, yelp_test_acc = evaluate(amazon_model, yelp_test_iter, criterion);\n",
    "print('Amazon model on Yelp dataset - test loss: {}, test accuracy: {}'.format(yelp_test_loss, yelp_test_acc));"
   ]
  },
  {
   "cell_type": "code",
   "execution_count": 25,
   "metadata": {},
   "outputs": [
    {
     "name": "stdout",
     "output_type": "stream",
     "text": [
      "[0.5400000214576721, 0.47999998927116394, 0.47999998927116394]\n"
     ]
    }
   ],
   "source": [
    "x = ['Yelp', 'Amazon', 'IMDB'];\n",
    "yelp_tests = [yelp_test_acc.item(), amazon_test_acc.item(), imdb_test_acc.item()];\n",
    "print(yelp_tests);"
   ]
  },
  {
   "cell_type": "code",
   "execution_count": 26,
   "metadata": {
    "scrolled": true
   },
   "outputs": [
    {
     "data": {
      "image/png": "[encoded data removed]",
      "text/plain": [
       "<Figure size 432x288 with 1 Axes>"
      ]
     },
     "metadata": {},
     "output_type": "display_data"
    }
   ],
   "source": [
    "sns.barplot(x, yelp_tests).set_title('Amazon model accuracy on all datasets', size=24, pad=20);"
   ]
  },
  {
   "cell_type": "markdown",
   "metadata": {},
   "source": [
    "# Train IMDB model"
   ]
  },
  {
   "cell_type": "code",
   "execution_count": 27,
   "metadata": {},
   "outputs": [],
   "source": [
    "imdb_model = RNN_Model(INPUT_DIM, EMBEDDING_DIM, HIDDEN_DIM, OUTPUT_DIM);\n",
    "\n",
    "optimizer = torch.optim.Adam(imdb_model.parameters());\n",
    "imdb_model = imdb_model.to(device);\n",
    "criterion = criterion.to(device);\n",
    "\n",
    "train_model(imdb_model, imdb_train_iter, optimizer, criterion);"
   ]
  },
  {
   "cell_type": "code",
   "execution_count": 28,
   "metadata": {},
   "outputs": [
    {
     "name": "stdout",
     "output_type": "stream",
     "text": [
      "Epoch: 1 / 10\n",
      "Training loss: 0.692464276154836, Training accuracy: 0.5125\n",
      "Validation loss: 0.6961976885795593, Validation accuracy: 0.5\n",
      "Epoch: 2 / 10\n",
      "Training loss: 0.6918382763862609, Training accuracy: 0.5010416666666667\n",
      "Validation loss: 0.6986517906188965, Validation accuracy: 0.47999998927116394\n",
      "Epoch: 3 / 10\n",
      "Training loss: 0.694864018758138, Training accuracy: 0.49270833333333336\n",
      "Validation loss: 0.6984530687332153, Validation accuracy: 0.5\n",
      "Epoch: 4 / 10\n",
      "Training loss: 0.691592029730479, Training accuracy: 0.5020833333333333\n",
      "Validation loss: 0.6978853344917297, Validation accuracy: 0.5\n",
      "Epoch: 5 / 10\n",
      "Training loss: 0.6999058127403259, Training accuracy: 0.49166666666666664\n",
      "Validation loss: 0.6970119476318359, Validation accuracy: 0.47999998927116394\n",
      "Epoch: 6 / 10\n",
      "Training loss: 0.6934840520222981, Training accuracy: 0.45729166666666665\n",
      "Validation loss: 0.6969196796417236, Validation accuracy: 0.47999998927116394\n",
      "Epoch: 7 / 10\n",
      "Training loss: 0.6929864923159281, Training accuracy: 0.4875\n",
      "Validation loss: 0.6943161487579346, Validation accuracy: 0.5\n",
      "Epoch: 8 / 10\n",
      "Training loss: 0.690584127108256, Training accuracy: 0.5197916666666667\n",
      "Validation loss: 0.6945618391036987, Validation accuracy: 0.5\n",
      "Epoch: 9 / 10\n",
      "Training loss: 0.6869357625643412, Training accuracy: 0.5229166666666667\n",
      "Validation loss: 0.6967223882675171, Validation accuracy: 0.5\n",
      "Epoch: 10 / 10\n",
      "Training loss: 0.689469861984253, Training accuracy: 0.5041666666666667\n",
      "Validation loss: 0.7011119723320007, Validation accuracy: 0.47999998927116394\n"
     ]
    }
   ],
   "source": [
    "best_validation_loss = float('inf');\n",
    "\n",
    "for epoch in range(N_EPOCHS):\n",
    "    train_loss, train_acc = train_model(imdb_model, imdb_train_iter, optimizer, criterion);\n",
    "    valid_loss, valid_acc = evaluate(imdb_model, imdb_val_iter, criterion);\n",
    "    \n",
    "    if valid_loss < best_validation_loss:\n",
    "        best_validation_loss = valid_loss;\n",
    "        torch.save(imdb_model.state_dict(), 'amazon_train.pt');\n",
    "    \n",
    "    print('Epoch: {} / {}'.format(epoch + 1, N_EPOCHS));\n",
    "    print('Training loss: {}, Training accuracy: {}'.format(train_loss, train_acc));\n",
    "    print('Validation loss: {}, Validation accuracy: {}'.format(valid_loss, valid_acc));"
   ]
  },
  {
   "cell_type": "markdown",
   "metadata": {},
   "source": [
    "# Test IMDB model on IMDB dataset"
   ]
  },
  {
   "cell_type": "code",
   "execution_count": 29,
   "metadata": {},
   "outputs": [
    {
     "name": "stdout",
     "output_type": "stream",
     "text": [
      "IMDB model on imdb dataset - test loss: 0.7352506518363953, test accuracy: 0.5199999809265137\n"
     ]
    }
   ],
   "source": [
    "imdb_model.load_state_dict(torch.load('imdb_train.pt'));\n",
    "\n",
    "imdb_test_loss, imdb_test_acc = evaluate(imdb_model, imdb_test_iter, criterion);\n",
    "print('IMDB model on imdb dataset - test loss: {}, test accuracy: {}'.format(imdb_test_loss, imdb_test_acc));"
   ]
  },
  {
   "cell_type": "markdown",
   "metadata": {},
   "source": [
    "# Test IMDB model on Amazon dataset"
   ]
  },
  {
   "cell_type": "code",
   "execution_count": 30,
   "metadata": {},
   "outputs": [
    {
     "name": "stdout",
     "output_type": "stream",
     "text": [
      "IMDB model on amazon dataset - test loss: 0.7288976907730103, test accuracy: 0.5400000214576721\n"
     ]
    }
   ],
   "source": [
    "amazon_test_loss, amazon_test_acc = evaluate(imdb_model, amazon_test_iter, criterion);\n",
    "print('IMDB model on amazon dataset - test loss: {}, test accuracy: {}'.format(amazon_test_loss, amazon_test_acc));"
   ]
  },
  {
   "cell_type": "markdown",
   "metadata": {},
   "source": [
    "# Test IMDB model on YELP dataset"
   ]
  },
  {
   "cell_type": "code",
   "execution_count": 31,
   "metadata": {},
   "outputs": [
    {
     "name": "stdout",
     "output_type": "stream",
     "text": [
      "Amazon model on Yelp dataset - test loss: 0.7534980773925781, test accuracy: 0.47999998927116394\n"
     ]
    }
   ],
   "source": [
    "yelp_test_loss, yelp_test_acc = evaluate(imdb_model, yelp_test_iter, criterion);\n",
    "print('Amazon model on Yelp dataset - test loss: {}, test accuracy: {}'.format(yelp_test_loss, yelp_test_acc));"
   ]
  },
  {
   "cell_type": "code",
   "execution_count": 32,
   "metadata": {},
   "outputs": [
    {
     "name": "stdout",
     "output_type": "stream",
     "text": [
      "[0.47999998927116394, 0.5400000214576721, 0.5199999809265137]\n"
     ]
    }
   ],
   "source": [
    "x = ['Yelp', 'Amazon', 'IMDB'];\n",
    "yelp_tests = [yelp_test_acc.item(), amazon_test_acc.item(), imdb_test_acc.item()];\n",
    "print(yelp_tests);"
   ]
  },
  {
   "cell_type": "code",
   "execution_count": 33,
   "metadata": {
    "scrolled": true
   },
   "outputs": [
    {
     "data": {
      "image/png": "[encoded data removed]",
      "text/plain": [
       "<Figure size 432x288 with 1 Axes>"
      ]
     },
     "metadata": {},
     "output_type": "display_data"
    }
   ],
   "source": [
    "sns.barplot(x, yelp_tests).set_title('Yelp model accuracy on all datasets', size=24, pad=20);"
   ]
  },
  {
   "cell_type": "markdown",
   "metadata": {},
   "source": [
    "# Train YELP model"
   ]
  },
  {
   "cell_type": "code",
   "execution_count": 34,
   "metadata": {},
   "outputs": [],
   "source": [
    "yelp_model = RNN_Model(INPUT_DIM, EMBEDDING_DIM, HIDDEN_DIM, OUTPUT_DIM);\n",
    "\n",
    "optimizer = torch.optim.Adam(yelp_model.parameters());\n",
    "yelp_model = yelp_model.to(device);\n",
    "criterion = criterion.to(device);"
   ]
  },
  {
   "cell_type": "code",
   "execution_count": 35,
   "metadata": {},
   "outputs": [
    {
     "name": "stdout",
     "output_type": "stream",
     "text": [
      "Epoch: 1 / 10\n",
      "Training loss: 0.7029915849367777, Training accuracy: 0.49270833333333336\n",
      "Validation loss: 0.696694552898407, Validation accuracy: 0.47999998927116394\n",
      "Epoch: 2 / 10\n",
      "Training loss: 0.693554147084554, Training accuracy: 0.5229166666666667\n",
      "Validation loss: 0.6977114677429199, Validation accuracy: 0.5\n",
      "Epoch: 3 / 10\n",
      "Training loss: 0.690119989713033, Training accuracy: 0.5072916666666667\n",
      "Validation loss: 0.6981682777404785, Validation accuracy: 0.46000000834465027\n",
      "Epoch: 4 / 10\n",
      "Training loss: 0.6931949853897095, Training accuracy: 0.49270833333333336\n",
      "Validation loss: 0.6963703632354736, Validation accuracy: 0.5199999809265137\n",
      "Epoch: 5 / 10\n",
      "Training loss: 0.6888681093851725, Training accuracy: 0.54375\n",
      "Validation loss: 0.6947762370109558, Validation accuracy: 0.5199999809265137\n",
      "Epoch: 6 / 10\n",
      "Training loss: 0.7070043245951335, Training accuracy: 0.49375\n",
      "Validation loss: 0.6915252208709717, Validation accuracy: 0.46000000834465027\n",
      "Epoch: 7 / 10\n",
      "Training loss: 0.692736045519511, Training accuracy: 0.5083333333333333\n",
      "Validation loss: 0.6889631748199463, Validation accuracy: 0.47999998927116394\n",
      "Epoch: 8 / 10\n",
      "Training loss: 0.6959795355796814, Training accuracy: 0.4979166666666667\n",
      "Validation loss: 0.6876488327980042, Validation accuracy: 0.5199999809265137\n",
      "Epoch: 9 / 10\n",
      "Training loss: 0.6911418477694193, Training accuracy: 0.5166666666666667\n",
      "Validation loss: 0.6876847147941589, Validation accuracy: 0.47999998927116394\n",
      "Epoch: 10 / 10\n",
      "Training loss: 0.688041341304779, Training accuracy: 0.5010416666666667\n",
      "Validation loss: 0.6867321133613586, Validation accuracy: 0.47999998927116394\n"
     ]
    }
   ],
   "source": [
    "best_validation_loss = float('inf');\n",
    "\n",
    "for epoch in range(N_EPOCHS):\n",
    "    train_loss, train_acc = train_model(yelp_model, yelp_train_iter, optimizer, criterion);\n",
    "    valid_loss, valid_acc = evaluate(yelp_model, yelp_val_iter, criterion);\n",
    "    \n",
    "    if valid_loss < best_validation_loss:\n",
    "        best_validation_loss = valid_loss;\n",
    "        torch.save(yelp_model.state_dict(), 'yelp_train.pt');\n",
    "    \n",
    "    print('Epoch: {} / {}'.format(epoch + 1, N_EPOCHS));\n",
    "    print('Training loss: {}, Training accuracy: {}'.format(train_loss, train_acc));\n",
    "    print('Validation loss: {}, Validation accuracy: {}'.format(valid_loss, valid_acc));"
   ]
  },
  {
   "cell_type": "markdown",
   "metadata": {},
   "source": [
    "# Test YELP model on YELP dataset"
   ]
  },
  {
   "cell_type": "code",
   "execution_count": 36,
   "metadata": {},
   "outputs": [
    {
     "name": "stdout",
     "output_type": "stream",
     "text": [
      "Amazon model on Yelp dataset - test loss: 0.680229127407074, test accuracy: 0.5\n"
     ]
    }
   ],
   "source": [
    "yelp_model.load_state_dict(torch.load('yelp_train.pt'));\n",
    "\n",
    "yelp_test_loss, yelp_test_acc = evaluate(yelp_model, yelp_test_iter, criterion);\n",
    "print('Amazon model on Yelp dataset - test loss: {}, test accuracy: {}'.format(yelp_test_loss, yelp_test_acc));"
   ]
  },
  {
   "cell_type": "markdown",
   "metadata": {},
   "source": [
    "# Test YELP model on Amazon dataset"
   ]
  },
  {
   "cell_type": "code",
   "execution_count": 37,
   "metadata": {},
   "outputs": [
    {
     "name": "stdout",
     "output_type": "stream",
     "text": [
      "IMDB model on amazon dataset - test loss: 0.7052208781242371, test accuracy: 0.5\n"
     ]
    }
   ],
   "source": [
    "amazon_test_loss, amazon_test_acc = evaluate(yelp_model, amazon_test_iter, criterion);\n",
    "print('IMDB model on amazon dataset - test loss: {}, test accuracy: {}'.format(amazon_test_loss, amazon_test_acc));"
   ]
  },
  {
   "cell_type": "markdown",
   "metadata": {},
   "source": [
    "# Test YELP model on IMDB dataset"
   ]
  },
  {
   "cell_type": "code",
   "execution_count": 38,
   "metadata": {},
   "outputs": [
    {
     "name": "stdout",
     "output_type": "stream",
     "text": [
      "IMDB model on imdb dataset - test loss: 0.7041407823562622, test accuracy: 0.5\n"
     ]
    }
   ],
   "source": [
    "imdb_test_loss, imdb_test_acc = evaluate(yelp_model, imdb_test_iter, criterion);\n",
    "print('IMDB model on imdb dataset - test loss: {}, test accuracy: {}'.format(imdb_test_loss, imdb_test_acc));"
   ]
  },
  {
   "cell_type": "code",
   "execution_count": 39,
   "metadata": {},
   "outputs": [
    {
     "name": "stdout",
     "output_type": "stream",
     "text": [
      "[0.5, 0.5, 0.5]\n"
     ]
    }
   ],
   "source": [
    "x = ['Yelp', 'Amazon', 'IMDB'];\n",
    "yelp_tests = [yelp_test_acc.item(), amazon_test_acc.item(), imdb_test_acc.item()];\n",
    "print(yelp_tests);"
   ]
  },
  {
   "cell_type": "code",
   "execution_count": 40,
   "metadata": {},
   "outputs": [
    {
     "data": {
      "image/png": "[encoded data removed]",
      "text/plain": [
       "<Figure size 432x288 with 1 Axes>"
      ]
     },
     "metadata": {},
     "output_type": "display_data"
    }
   ],
   "source": [
    "sns.barplot(x, yelp_tests).set_title('Yelp model accuracy on all datasets', size=24, pad=20);"
   ]
  },
  {
   "cell_type": "code",
   "execution_count": null,
   "metadata": {},
   "outputs": [],
   "source": []
  }
 ],
 "metadata": {
  "kernelspec": {
   "display_name": "Python 3",
   "language": "python",
   "name": "python3"
  },
  "language_info": {
   "codemirror_mode": {
    "name": "ipython",
    "version": 3
   },
   "file_extension": ".py",
   "mimetype": "text/x-python",
   "name": "python",
   "nbconvert_exporter": "python",
   "pygments_lexer": "ipython3",
   "version": "3.7.6"
  }
 },
 "nbformat": 4,
 "nbformat_minor": 4
}